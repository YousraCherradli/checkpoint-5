{
 "cells": [
  {
   "cell_type": "code",
   "execution_count": 2,
   "id": "ac3c147a",
   "metadata": {},
   "outputs": [
    {
     "name": "stdout",
     "output_type": "stream",
     "text": [
      "(1, 2, 3)\n"
     ]
    }
   ],
   "source": [
    "class Point3D:\n",
    "    def __init__(L, x, y, z):\n",
    "        L.x = x\n",
    "        L.y = y\n",
    "        L.z = z\n",
    "    \n",
    "    def __repr__(L):\n",
    "        return f\"({L.x}, {L.y}, {L.z})\"\n",
    "\n",
    "my_point = Point3D(1, 2, 3)\n",
    "print(my_point)\n"
   ]
  },
  {
   "cell_type": "code",
   "execution_count": 3,
   "id": "f7811a4a",
   "metadata": {},
   "outputs": [
    {
     "name": "stdout",
     "output_type": "stream",
     "text": [
      "Area:  12\n",
      "Perimeter:  14\n"
     ]
    }
   ],
   "source": [
    "class Rectangle:\n",
    "    def __init__(self, length, width):\n",
    "        self.length = length\n",
    "        self.width = width\n",
    "\n",
    "    def area(self):\n",
    "        return self.length * self.width\n",
    "    \n",
    "    def perimeter(self):\n",
    "        return 2 * (self.length + self.width)\n",
    "\n",
    "my_rectangle = Rectangle(3, 4)\n",
    "print(\"Area: \", my_rectangle.area())\n",
    "print(\"Perimeter: \", my_rectangle.perimeter())\n"
   ]
  },
  {
   "cell_type": "code",
   "execution_count": 7,
   "id": "0d790f89",
   "metadata": {},
   "outputs": [
    {
     "name": "stdout",
     "output_type": "stream",
     "text": [
      "Deposit:  150\n",
      "retire:  30\n"
     ]
    }
   ],
   "source": [
    "class Bank:\n",
    "    def __init__(self, balance=0):\n",
    "        self.balance = balance\n",
    "        \n",
    "    def deposit(self, amount):\n",
    "        self.balance += amount\n",
    "        return self.balance\n",
    "    \n",
    "    def retire(self, amount):\n",
    "        if self.balance - amount >= 0:\n",
    "            self.balance -= amount\n",
    "            return self.balance\n",
    "        else:\n",
    "            return \"Insufficient funds\"\n",
    "\n",
    "my_account = Bank(100)\n",
    "print(\"Deposit: \", my_account.deposit(50))\n",
    "print(\"retire: \", my_account.retire(120))\n"
   ]
  },
  {
   "cell_type": "code",
   "execution_count": null,
   "id": "ed07a48c",
   "metadata": {},
   "outputs": [],
   "source": []
  }
 ],
 "metadata": {
  "kernelspec": {
   "display_name": "Python 3 (ipykernel)",
   "language": "python",
   "name": "python3"
  },
  "language_info": {
   "codemirror_mode": {
    "name": "ipython",
    "version": 3
   },
   "file_extension": ".py",
   "mimetype": "text/x-python",
   "name": "python",
   "nbconvert_exporter": "python",
   "pygments_lexer": "ipython3",
   "version": "3.9.13"
  }
 },
 "nbformat": 4,
 "nbformat_minor": 5
}
